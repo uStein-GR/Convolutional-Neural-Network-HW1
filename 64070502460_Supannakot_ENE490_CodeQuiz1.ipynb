{
  "nbformat": 4,
  "nbformat_minor": 0,
  "metadata": {
    "colab": {
      "provenance": [],
      "gpuType": "T4"
    },
    "kernelspec": {
      "name": "python3",
      "display_name": "Python 3"
    },
    "language_info": {
      "name": "python"
    },
    "accelerator": "GPU"
  },
  "cells": [
    {
      "cell_type": "markdown",
      "source": [
        "\n",
        "---\n",
        "\n",
        "### **Coding Quiz for ENE490 on CNNs and Neural Networks with PyTorch**\n",
        "### **Duration: 1 hour**\n",
        "\n",
        "---\n",
        "\n",
        "#### **Question 1: Build a Simple CNN for MNIST Dataset**\n",
        "\n",
        "**Task:**  \n",
        "Write a Python program in Google Colab to:\n",
        "1. Load the MNIST dataset.\n",
        "2. Normalize the images to the range [0, 1].\n",
        "3. Build a CNN model with the following architecture:\n",
        "   - Input layer (28x28 grayscale image)\n",
        "   - Convolutional Layer: 32 filters, 3x3 kernel, ReLU activation\n",
        "   - MaxPooling Layer: 2x2 pool size\n",
        "   - Flatten layer\n",
        "   - Fully connected layer: 128 units, ReLU activation\n",
        "   - Output layer: 10 units (Softmax activation)\n",
        "4. Use the Adam optimizer and cross-entropy loss.\n",
        "5. Train the model for 5 epochs with a batch size of 64.\n",
        "\n",
        "**Hint:**  \n",
        "Use the following PyTorch modules:\n",
        "- `torchvision.datasets.MNIST`\n",
        "- `torch.utils.data.DataLoader`\n",
        "- `torch.nn.Conv2d`, `torch.nn.MaxPool2d`, `torch.nn.Linear`, `torch.nn.ReLU`, `torch.nn.Softmax`\n",
        "- `torch.optim.Adam`\n",
        "\n",
        "**Deliverables:**  \n",
        "- Code implementation.\n",
        "- Final training accuracy and loss.\n",
        "\n",
        "\n",
        "\n",
        "\n",
        "\n"
      ],
      "metadata": {
        "id": "stcr5b9ljZr_"
      }
    },
    {
      "cell_type": "code",
      "source": [
        "# Solution for Question 1, you can add more cells for coding below."
      ],
      "metadata": {
        "id": "TWipAdapjoFu"
      },
      "execution_count": null,
      "outputs": []
    },
    {
      "cell_type": "code",
      "source": [
        "import os\n",
        "import torch\n",
        "import torchvision\n",
        "import torch.nn as nn\n",
        "import torch.optim as optim\n",
        "import torch.nn.functional as f\n",
        "from torch.utils.data import DataLoader\n",
        "import torchvision.datasets as datasets\n",
        "import torchvision.transforms as transform\n",
        "from torchvision import transforms\n",
        "import matplotlib.pyplot as plt"
      ],
      "metadata": {
        "id": "8Z2rfe9U3CCx"
      },
      "execution_count": 1,
      "outputs": []
    },
    {
      "cell_type": "code",
      "source": [
        "transform = transforms.Compose([\n",
        "    transforms.ToTensor(),\n",
        "    transforms.Normalize((0.5,), (0.5,))\n",
        "])"
      ],
      "metadata": {
        "id": "7tuSFBJ13q37"
      },
      "execution_count": 2,
      "outputs": []
    },
    {
      "cell_type": "code",
      "source": [
        "train_dataset = datasets.MNIST(root='./data', train=True, transform=transform, download=True)\n",
        "test_dataset = datasets.MNIST(root='./data', train=False, transform=transform, download=True)\n",
        "\n",
        "train_loader = DataLoader(dataset=train_dataset, batch_size=64, shuffle=True)\n",
        "test_loader = DataLoader(dataset=test_dataset, batch_size=64, shuffle=False)"
      ],
      "metadata": {
        "id": "I5MBscHq3yzA"
      },
      "execution_count": 3,
      "outputs": []
    },
    {
      "cell_type": "code",
      "source": [
        "class SIMCNN(nn.Module):\n",
        "    def __init__(self):\n",
        "        super(SIMCNN, self).__init__()\n",
        "        self.conv1 = nn.Conv2d(1, 32, kernel_size=3)\n",
        "        self.relu = nn.ReLU()\n",
        "        self.pool = nn.MaxPool2d(kernel_size=2)\n",
        "        self.flatten = nn.Flatten()\n",
        "        self.fc1 = nn.Linear(32 * 13 * 13, 128)\n",
        "        self.fc2 = nn.Linear(128, 10)\n",
        "\n",
        "    def forward(self, x):\n",
        "        x = self.conv1(x)\n",
        "        x = self.relu(x)\n",
        "        x = self.pool(x)\n",
        "        x = self.flatten(x)\n",
        "        x = self.fc1(x)\n",
        "        x = self.relu(x)\n",
        "        x = self.fc2(x)\n",
        "        return x"
      ],
      "metadata": {
        "id": "DyRhJX7m4C06"
      },
      "execution_count": 4,
      "outputs": []
    },
    {
      "cell_type": "code",
      "source": [
        "device = torch.device('cuda' if torch.cuda.is_available() else 'cpu')\n",
        "model = SIMCNN().to(device)"
      ],
      "metadata": {
        "id": "HxY4tLYT4YZU"
      },
      "execution_count": 5,
      "outputs": []
    },
    {
      "cell_type": "code",
      "source": [
        "criterion = nn.CrossEntropyLoss()\n",
        "optimizer = optim.Adam(model.parameters(), lr=0.001)"
      ],
      "metadata": {
        "id": "Pk-uzyus4nOu"
      },
      "execution_count": 6,
      "outputs": []
    },
    {
      "cell_type": "code",
      "source": [
        "losses = []\n",
        "num_epochs = 5\n",
        "for epoch in range(num_epochs):\n",
        "    model.train()\n",
        "    running_loss = 0.0\n",
        "    for images, labels in train_loader:\n",
        "        images = images.to(device)\n",
        "        labels = labels.to(device)\n",
        "\n",
        "        optimizer.zero_grad()\n",
        "        outputs = model(images)\n",
        "        loss = criterion(outputs, labels)\n",
        "        loss.backward()\n",
        "        optimizer.step()\n",
        "        running_loss += loss.item()\n",
        "\n",
        "    print(f\"Epoch {epoch + 1}/{num_epochs}, Loss: {running_loss / len(train_loader)}\")"
      ],
      "metadata": {
        "colab": {
          "base_uri": "https://localhost:8080/"
        },
        "id": "z6EOfu835vm3",
        "outputId": "54834a89-e2ef-4b38-ea42-3497b93c9a72"
      },
      "execution_count": 7,
      "outputs": [
        {
          "output_type": "stream",
          "name": "stdout",
          "text": [
            "Epoch 1/5, Loss: 0.209820676575115\n",
            "Epoch 2/5, Loss: 0.06950441889265287\n",
            "Epoch 3/5, Loss: 0.04824030998551142\n",
            "Epoch 4/5, Loss: 0.03797239072728596\n",
            "Epoch 5/5, Loss: 0.026966195048226702\n"
          ]
        }
      ]
    },
    {
      "cell_type": "code",
      "source": [
        "model.eval()\n",
        "correct = 0\n",
        "total = 0\n",
        "with torch.no_grad():\n",
        "    for images, labels in test_loader:\n",
        "        images = images.to(device)\n",
        "        labels = labels.to(device)\n",
        "\n",
        "        outputs = model(images)\n",
        "        _, predicted = torch.max(outputs.data, 1)\n",
        "        total += labels.size(0)\n",
        "        correct += (predicted == labels).sum().item()\n",
        "\n",
        "print(f'got {correct} / {total}   Accuracy {(float(correct)/float(total)*100)}')\n"
      ],
      "metadata": {
        "colab": {
          "base_uri": "https://localhost:8080/"
        },
        "id": "uCdaH_Q62Zl7",
        "outputId": "b1401361-52c0-4a39-cc51-2204c2f52076"
      },
      "execution_count": 8,
      "outputs": [
        {
          "output_type": "stream",
          "name": "stdout",
          "text": [
            "got 9843 / 10000   Accuracy 98.42999999999999\n"
          ]
        }
      ]
    },
    {
      "cell_type": "markdown",
      "source": [
        "---\n",
        "\n",
        "#### **Question 2: Data Augmentation for Image Classification**\n",
        "\n",
        "**Task:**  \n",
        "Write a Python script in Google Colab to:\n",
        "1. Use the CIFAR-10 dataset.\n",
        "2. Apply data augmentation with the following transformations:\n",
        "   - Random rotation: up to 20 degrees.\n",
        "   - Random width and height shift: 10% of the image dimensions.\n",
        "   - Random horizontal flip.\n",
        "3. Display 9 augmented images from the training dataset in a 3x3 grid.\n",
        "\n",
        "**Hint:**  \n",
        "Use the following PyTorch modules:\n",
        "- `torchvision.datasets.CIFAR10`\n",
        "- `torchvision.transforms.Compose`\n",
        "- Transformations like `RandomRotation`, `RandomAffine`, and `RandomHorizontalFlip`\n",
        "- `matplotlib.pyplot.imshow()` to display images.\n",
        "\n",
        "**Deliverables:**  \n",
        "- Code implementation.\n",
        "- Visualization of augmented images.\n",
        "\n",
        "---"
      ],
      "metadata": {
        "id": "nt8d_9ncj0wp"
      }
    },
    {
      "cell_type": "code",
      "source": [
        "# Solution for Question 2, you can add more cells for coding below."
      ],
      "metadata": {
        "id": "1cp_vtN4j1rp"
      },
      "execution_count": null,
      "outputs": []
    },
    {
      "cell_type": "code",
      "source": [
        "import os\n",
        "import torch\n",
        "import torchvision\n",
        "import torch.nn as nn\n",
        "import torch.optim as optim\n",
        "import torch.nn.functional as f\n",
        "from torch.utils.data import DataLoader\n",
        "import torchvision.datasets as datasets\n",
        "import torchvision.transforms as transform\n",
        "from torchvision import transforms\n",
        "import matplotlib.pyplot as plt\n",
        "import numpy as np"
      ],
      "metadata": {
        "id": "FQvYKom88VMY"
      },
      "execution_count": 15,
      "outputs": []
    },
    {
      "cell_type": "code",
      "source": [
        "transform = transforms.Compose([\n",
        "    transforms.RandomRotation(20),\n",
        "    transforms.RandomAffine(0, translate=(0.1, 0.1)),\n",
        "    transforms.RandomHorizontalFlip(),\n",
        "    transforms.ToTensor()\n",
        "])\n"
      ],
      "metadata": {
        "id": "c5C0tW4m8qYT"
      },
      "execution_count": 10,
      "outputs": []
    },
    {
      "cell_type": "code",
      "source": [
        "train_dataset = torchvision.datasets.CIFAR10(\n",
        "    root='./data',\n",
        "    train=True,\n",
        "    download=True,\n",
        "    transform=transform\n",
        ")\n",
        "\n",
        "train_loader = torch.utils.data.DataLoader(\n",
        "    train_dataset,\n",
        "    batch_size=9,\n",
        "    shuffle=True\n",
        ")"
      ],
      "metadata": {
        "colab": {
          "base_uri": "https://localhost:8080/"
        },
        "id": "lKJX0WFI89lo",
        "outputId": "f59d5cd8-d8ab-4d39-b229-44d8edc868d5"
      },
      "execution_count": 11,
      "outputs": [
        {
          "output_type": "stream",
          "name": "stdout",
          "text": [
            "Files already downloaded and verified\n"
          ]
        }
      ]
    },
    {
      "cell_type": "code",
      "source": [
        "data_iter = iter(train_loader)\n",
        "images, labels = next(data_iter)"
      ],
      "metadata": {
        "id": "RbRPq-Qh9OHk"
      },
      "execution_count": 12,
      "outputs": []
    },
    {
      "cell_type": "code",
      "source": [
        "def showimg(imgs):\n",
        "    fig, axes = plt.subplots(3, 3, figsize=(8, 8))\n",
        "    for i, ax in enumerate(axes.flat):\n",
        "        img = imgs[i].permute(1, 2, 0).numpy()\n",
        "        img = np.clip(img, 0, 1)\n",
        "        ax.imshow(img)\n",
        "        ax.axis()\n",
        "    plt.show()\n",
        "\n",
        "\n",
        "print(\"Displaying 9 augmented images:\")"
      ],
      "metadata": {
        "colab": {
          "base_uri": "https://localhost:8080/"
        },
        "id": "JDBCcAw69vYd",
        "outputId": "ab92d619-15b8-4873-82a9-98da6094a473"
      },
      "execution_count": 13,
      "outputs": [
        {
          "output_type": "stream",
          "name": "stdout",
          "text": [
            "Displaying 9 augmented images:\n"
          ]
        }
      ]
    },
    {
      "cell_type": "code",
      "source": [
        "showimg(images)"
      ],
      "metadata": {
        "colab": {
          "base_uri": "https://localhost:8080/",
          "height": 679
        },
        "id": "_-_ln1VM95GU",
        "outputId": "c2c6f1c2-6a4c-41b4-9d78-7505c82310ac"
      },
      "execution_count": 16,
      "outputs": [
        {
          "output_type": "display_data",
          "data": {
            "text/plain": [
              "<Figure size 800x800 with 9 Axes>"
            ],
            "image/png": "[encoded data removed]"
          },
          "metadata": {}
        }
      ]
    },
    {
      "cell_type": "markdown",
      "source": [
        "#### **Question 3: Implement a Custom Training Loop**\n",
        "\n",
        "**Task:**  \n",
        "Train a fully connected neural network (FNN) for the Fashion-MNIST dataset using a custom training loop. Follow these steps:\n",
        "1. Load the Fashion-MNIST dataset.\n",
        "2. Normalize the data.\n",
        "3. Build an FNN model with:\n",
        "   - Flatten input layer.\n",
        "   - Fully connected layer: 128 units, ReLU activation.\n",
        "   - Fully connected layer: 64 units, ReLU activation.\n",
        "   - Output layer: 10 units, Softmax activation.\n",
        "4. Write a custom training loop:\n",
        "   - Use SGD optimizer.\n",
        "   - Compute loss using cross-entropy.\n",
        "   - Backpropagate gradients manually using `loss.backward()` and `optimizer.step()`.\n",
        "   - Train for 10 epochs with batch size of 32.\n",
        "5. Plot training loss per epoch.\n",
        "\n",
        "**Hint:**  \n",
        "Use the following PyTorch methods:\n",
        "- `torchvision.datasets.FashionMNIST`\n",
        "- `torch.nn.Module` for defining the model.\n",
        "- `torch.optim.SGD`\n",
        "- `plt.plot()` for visualizing the loss.\n",
        "\n",
        "**Deliverables:**  \n",
        "- Code implementation.\n",
        "- Training loss plot.\n",
        "\n",
        "---\n"
      ],
      "metadata": {
        "id": "e4oPZV5mj-eC"
      }
    },
    {
      "cell_type": "code",
      "source": [
        "# Solution for Question 3, you can add more cells for coding below."
      ],
      "metadata": {
        "id": "yWda1hiYj_Fa"
      },
      "execution_count": null,
      "outputs": []
    },
    {
      "cell_type": "code",
      "source": [
        "import torch\n",
        "import torch.nn as nn\n",
        "import torch.optim as optim\n",
        "from torchvision import datasets, transforms\n",
        "from torch.utils.data import DataLoader\n",
        "import matplotlib.pyplot as plt"
      ],
      "metadata": {
        "id": "VEztHb8v-np0"
      },
      "execution_count": 28,
      "outputs": []
    },
    {
      "cell_type": "code",
      "source": [
        "transform = transforms.Compose([\n",
        "    transforms.ToTensor(),\n",
        "    transforms.Normalize((0.5,), (0.5,))\n",
        "])"
      ],
      "metadata": {
        "id": "SF6jm24fAhP7"
      },
      "execution_count": 29,
      "outputs": []
    },
    {
      "cell_type": "code",
      "source": [
        "train_dataset = datasets.FashionMNIST(root='./data', train=True, transform=transform, download=True)\n",
        "train_loader = DataLoader(dataset=train_dataset, batch_size=32, shuffle=True)"
      ],
      "metadata": {
        "colab": {
          "base_uri": "https://localhost:8080/"
        },
        "id": "Ih7gnDx-AhVh",
        "outputId": "0a69d395-7686-47e4-b33b-b1afeb5b1046"
      },
      "execution_count": 30,
      "outputs": [
        {
          "output_type": "stream",
          "name": "stdout",
          "text": [
            "Downloading http://fashion-mnist.s3-website.eu-central-1.amazonaws.com/train-images-idx3-ubyte.gz\n",
            "Downloading http://fashion-mnist.s3-website.eu-central-1.amazonaws.com/train-images-idx3-ubyte.gz to ./data/FashionMNIST/raw/train-images-idx3-ubyte.gz\n"
          ]
        },
        {
          "output_type": "stream",
          "name": "stderr",
          "text": [
            "100%|██████████| 26.4M/26.4M [00:02<00:00, 10.6MB/s]\n"
          ]
        },
        {
          "output_type": "stream",
          "name": "stdout",
          "text": [
            "Extracting ./data/FashionMNIST/raw/train-images-idx3-ubyte.gz to ./data/FashionMNIST/raw\n",
            "\n",
            "Downloading http://fashion-mnist.s3-website.eu-central-1.amazonaws.com/train-labels-idx1-ubyte.gz\n",
            "Downloading http://fashion-mnist.s3-website.eu-central-1.amazonaws.com/train-labels-idx1-ubyte.gz to ./data/FashionMNIST/raw/train-labels-idx1-ubyte.gz\n"
          ]
        },
        {
          "output_type": "stream",
          "name": "stderr",
          "text": [
            "100%|██████████| 29.5k/29.5k [00:00<00:00, 173kB/s]\n"
          ]
        },
        {
          "output_type": "stream",
          "name": "stdout",
          "text": [
            "Extracting ./data/FashionMNIST/raw/train-labels-idx1-ubyte.gz to ./data/FashionMNIST/raw\n",
            "\n",
            "Downloading http://fashion-mnist.s3-website.eu-central-1.amazonaws.com/t10k-images-idx3-ubyte.gz\n",
            "Downloading http://fashion-mnist.s3-website.eu-central-1.amazonaws.com/t10k-images-idx3-ubyte.gz to ./data/FashionMNIST/raw/t10k-images-idx3-ubyte.gz\n"
          ]
        },
        {
          "output_type": "stream",
          "name": "stderr",
          "text": [
            "100%|██████████| 4.42M/4.42M [00:01<00:00, 3.26MB/s]\n"
          ]
        },
        {
          "output_type": "stream",
          "name": "stdout",
          "text": [
            "Extracting ./data/FashionMNIST/raw/t10k-images-idx3-ubyte.gz to ./data/FashionMNIST/raw\n",
            "\n",
            "Downloading http://fashion-mnist.s3-website.eu-central-1.amazonaws.com/t10k-labels-idx1-ubyte.gz\n",
            "Downloading http://fashion-mnist.s3-website.eu-central-1.amazonaws.com/t10k-labels-idx1-ubyte.gz to ./data/FashionMNIST/raw/t10k-labels-idx1-ubyte.gz\n"
          ]
        },
        {
          "output_type": "stream",
          "name": "stderr",
          "text": [
            "100%|██████████| 5.15k/5.15k [00:00<00:00, 7.80MB/s]"
          ]
        },
        {
          "output_type": "stream",
          "name": "stdout",
          "text": [
            "Extracting ./data/FashionMNIST/raw/t10k-labels-idx1-ubyte.gz to ./data/FashionMNIST/raw\n",
            "\n"
          ]
        },
        {
          "output_type": "stream",
          "name": "stderr",
          "text": [
            "\n"
          ]
        }
      ]
    },
    {
      "cell_type": "code",
      "source": [
        "class FNN(nn.Module):\n",
        "    def __init__(self, out_classes=10):\n",
        "        super(FNN, self).__init__()\n",
        "        self.flatten = nn.Flatten()\n",
        "        self.fc1 = nn.Linear(28 * 28, 128)\n",
        "        self.fc2 = nn.Linear(128, 64)\n",
        "        self.output = nn.Linear(64, out_classes)\n",
        "\n",
        "    def forward(self, x):\n",
        "        x = self.flatten(x)\n",
        "        x = torch.relu(self.fc1(x))\n",
        "        x = torch.relu(self.fc2(x))\n",
        "        x = self.output(x)\n",
        "        return x"
      ],
      "metadata": {
        "id": "2ZCTj4xHAhbb"
      },
      "execution_count": 31,
      "outputs": []
    },
    {
      "cell_type": "code",
      "source": [
        "device = torch.device('cuda' if torch.cuda.is_available() else 'cpu')\n",
        "model = FNN().to(device)"
      ],
      "metadata": {
        "id": "3GfwrhDBAhgt"
      },
      "execution_count": 33,
      "outputs": []
    },
    {
      "cell_type": "code",
      "source": [
        "optimizer = optim.SGD(model.parameters(), lr=0.001)\n",
        "criterion = nn.CrossEntropyLoss()"
      ],
      "metadata": {
        "id": "bTXbIxtEAhmU"
      },
      "execution_count": 34,
      "outputs": []
    },
    {
      "cell_type": "code",
      "source": [
        "num_epochs = 10\n",
        "training_loss = []\n",
        "\n",
        "for epoch in range(num_epochs):\n",
        "    epoch_loss = 0.0\n",
        "    for images, labels in train_loader:\n",
        "        images = images.to(device)\n",
        "        labels = labels.to(device)\n",
        "\n",
        "        outputs = model(images)\n",
        "        loss = criterion(outputs, labels)\n",
        "\n",
        "        optimizer.zero_grad()\n",
        "        loss.backward()\n",
        "        optimizer.step()\n",
        "\n",
        "        epoch_loss += loss.item()\n",
        "\n",
        "    avg_loss = epoch_loss / len(train_loader)\n",
        "    training_loss.append(avg_loss)\n",
        "    print(f\"Epoch {epoch + 1}/{num_epochs}, Loss: {avg_loss:.4f}\")"
      ],
      "metadata": {
        "colab": {
          "base_uri": "https://localhost:8080/"
        },
        "id": "APYcChzQBBGd",
        "outputId": "53fbe370-3bc5-4106-b2a2-8a14243cd4f7"
      },
      "execution_count": 35,
      "outputs": [
        {
          "output_type": "stream",
          "name": "stdout",
          "text": [
            "Epoch 1/10, Loss: 1.8849\n",
            "Epoch 2/10, Loss: 1.0350\n",
            "Epoch 3/10, Loss: 0.7702\n",
            "Epoch 4/10, Loss: 0.6767\n",
            "Epoch 5/10, Loss: 0.6243\n",
            "Epoch 6/10, Loss: 0.5890\n",
            "Epoch 7/10, Loss: 0.5628\n",
            "Epoch 8/10, Loss: 0.5428\n",
            "Epoch 9/10, Loss: 0.5262\n",
            "Epoch 10/10, Loss: 0.5126\n"
          ]
        }
      ]
    },
    {
      "cell_type": "code",
      "source": [
        "plt.plot(range(1, num_epochs + 1), training_loss, marker='o')\n",
        "plt.xlabel('Epoch')\n",
        "plt.ylabel('Training Loss')\n",
        "plt.title('Training Loss Plot! (with respect to Epoch)')\n",
        "plt.show()"
      ],
      "metadata": {
        "colab": {
          "base_uri": "https://localhost:8080/",
          "height": 472
        },
        "id": "ouETTjgBBCWh",
        "outputId": "69023375-388b-4758-b9de-8bc38f8134c8"
      },
      "execution_count": 45,
      "outputs": [
        {
          "output_type": "display_data",
          "data": {
            "text/plain": [
              "<Figure size 640x480 with 1 Axes>"
            ],
            "image/png": "[encoded data removed]"
          },
          "metadata": {}
        }
      ]
    },
    {
      "cell_type": "markdown",
      "source": [
        "#### **Question 4: Visualizing Filters and Feature Maps**\n",
        "\n",
        "**Task:**  \n",
        "1. Build a simple CNN for MNIST (similar to Question 1).\n",
        "2. Train the model for 3 epochs.\n",
        "3. Visualize:\n",
        "   - The learned filters of the first convolutional layer.\n",
        "   - Feature maps of the first 5 images from the test set.\n",
        "\n",
        "**Hint:**  \n",
        "Use the following steps:\n",
        "- Extract filters using `model.conv1.weight.data`.\n",
        "- Display filters using `matplotlib.pyplot.imshow()`.\n",
        "- For feature maps, pass an image through the first convolutional layer and visualize the output using `torch.no_grad()`.\n",
        "\n",
        "**Deliverables:**  \n",
        "- Code implementation.\n",
        "- Visualization of filters and feature maps.\n",
        "\n",
        "---"
      ],
      "metadata": {
        "id": "qIMYfUTukQUt"
      }
    },
    {
      "cell_type": "code",
      "source": [
        "# Solution for Question 4, you can add more cells for coding below."
      ],
      "metadata": {
        "id": "lhVUevxdkQ1d"
      },
      "execution_count": null,
      "outputs": []
    },
    {
      "cell_type": "code",
      "source": [
        "import torch\n",
        "import torch.nn as nn\n",
        "import torch.optim as optim\n",
        "from torchvision import datasets, transforms\n",
        "from torch.utils.data import DataLoader\n",
        "import matplotlib.pyplot as plt"
      ],
      "metadata": {
        "id": "fZnhunmuCPvk"
      },
      "execution_count": 17,
      "outputs": []
    },
    {
      "cell_type": "code",
      "source": [
        "transform = transforms.Compose([\n",
        "    transforms.ToTensor(),\n",
        "    transforms.Normalize((0.5,), (0.5,))\n",
        "])"
      ],
      "metadata": {
        "id": "Zu_GAjlICPx7"
      },
      "execution_count": 18,
      "outputs": []
    },
    {
      "cell_type": "code",
      "source": [
        "train_dataset = datasets.MNIST(root='./data', train=True, transform=transform, download=True)\n",
        "test_dataset = datasets.MNIST(root='./data', train=False, transform=transform, download=True)"
      ],
      "metadata": {
        "id": "mF-0jKrJCP0j"
      },
      "execution_count": 19,
      "outputs": []
    },
    {
      "cell_type": "code",
      "source": [
        "train_loader = DataLoader(dataset=train_dataset, batch_size=64, shuffle=True)\n",
        "test_loader = DataLoader(dataset=test_dataset, batch_size=5, shuffle=False)"
      ],
      "metadata": {
        "id": "pwe2x2ElCP24"
      },
      "execution_count": 20,
      "outputs": []
    },
    {
      "cell_type": "code",
      "source": [
        "class CNN4(nn.Module):\n",
        "    def __init__(self, out_classes=10):\n",
        "        super(CNN4, self).__init__()\n",
        "        self.conv1 = nn.Conv2d(1, 6, kernel_size=3)\n",
        "        self.pool = nn.MaxPool2d(kernel_size=2)\n",
        "        self.fc1 = nn.Linear(6 * 13 * 13, out_classes)\n",
        "\n",
        "    def forward(self, x):\n",
        "        x = self.conv1(x)\n",
        "        x = torch.relu(x)\n",
        "        x = self.pool(x)\n",
        "        x = x.view(-1, 6 * 13 * 13)\n",
        "        x = self.fc1(x)\n",
        "        return x"
      ],
      "metadata": {
        "id": "PwKOBfcTCP5V"
      },
      "execution_count": 23,
      "outputs": []
    },
    {
      "cell_type": "code",
      "source": [
        "device = torch.device('cuda' if torch.cuda.is_available() else 'cpu')\n",
        "moele = CNN4().to(device)"
      ],
      "metadata": {
        "id": "NoFtAD0-CP7o"
      },
      "execution_count": 25,
      "outputs": []
    },
    {
      "cell_type": "code",
      "source": [
        "criterion = nn.CrossEntropyLoss()\n",
        "optimizer = optim.Adam(model.parameters(), lr=0.001)"
      ],
      "metadata": {
        "id": "F3T_D36zEpPi"
      },
      "execution_count": 26,
      "outputs": []
    },
    {
      "cell_type": "code",
      "source": [
        "num_epochs = 3\n",
        "for epoch in range(num_epochs):\n",
        "    model.train()\n",
        "    running_loss = 0.0\n",
        "    for images, labels in train_loader:\n",
        "        images = images.to(device)\n",
        "        labels = labels.to(device)\n",
        "\n",
        "        optimizer.zero_grad()\n",
        "        outputs = model(images)\n",
        "\n",
        "        loss = criterion(outputs, labels)\n",
        "        loss.backward()\n",
        "\n",
        "        optimizer.step()\n",
        "        running_loss += loss.item()\n",
        "    print(f\"Epoch {epoch + 1}/{num_epochs}, Loss: {running_loss / len(train_loader):.4f}\")"
      ],
      "metadata": {
        "colab": {
          "base_uri": "https://localhost:8080/"
        },
        "id": "xJrniGYWEvg1",
        "outputId": "5075b65e-58ff-405b-a7f7-399403e39385"
      },
      "execution_count": 28,
      "outputs": [
        {
          "output_type": "stream",
          "name": "stdout",
          "text": [
            "Epoch 1/3, Loss: 0.0253\n",
            "Epoch 2/3, Loss: 0.0170\n",
            "Epoch 3/3, Loss: 0.0128\n"
          ]
        }
      ]
    },
    {
      "cell_type": "code",
      "source": [
        "filters = model.conv1.weight.data.cpu()\n",
        "\n",
        "print(\"Visualizing filters:\")\n",
        "fig, axes = plt.subplots(1, 6, figsize=(12, 6))\n",
        "for i, ax in enumerate(axes.flat):\n",
        "    # Move the tensor to CPU before converting to NumPy\n",
        "    filter_img = filters[i, 0].detach().numpy()\n",
        "    ax.imshow(filter_img, cmap='gray')\n",
        "    ax.axis('off')\n",
        "plt.show()"
      ],
      "metadata": {
        "colab": {
          "base_uri": "https://localhost:8080/",
          "height": 184
        },
        "id": "FGrl1g-XFHS3",
        "outputId": "4e86d519-2ded-419a-f8a3-70806a6f9ad1"
      },
      "execution_count": 31,
      "outputs": [
        {
          "output_type": "stream",
          "name": "stdout",
          "text": [
            "Visualizing filters:\n"
          ]
        },
        {
          "output_type": "display_data",
          "data": {
            "text/plain": [
              "<Figure size 1200x600 with 6 Axes>"
            ],
            "image/png": "[encoded data removed]"
          },
          "metadata": {}
        }
      ]
    },
    {
      "cell_type": "code",
      "source": [
        "model.eval()\n",
        "images, _ = next(iter(test_loader))\n",
        "images = images.to(device)\n",
        "\n",
        "with torch.no_grad():\n",
        "    feature_maps = model.conv1(images)\n",
        "\n",
        "print(\"Visualizing feature maps for the first 5 test images:\")\n",
        "fig, axes = plt.subplots(5, 6, figsize=(12, 12))\n",
        "for i in range(5):\n",
        "    for j in range(6):\n",
        "        feature_map = feature_maps[i, j].cpu().detach().numpy()\n",
        "        axes[i, j].imshow(feature_map, cmap='gray')\n",
        "        axes[i, j].axis('off')\n",
        "plt.show()"
      ],
      "metadata": {
        "colab": {
          "base_uri": "https://localhost:8080/",
          "height": 935
        },
        "id": "LvZ95XJoFXNR",
        "outputId": "6666559a-ff47-46c0-f8eb-0f31f25ac7fa"
      },
      "execution_count": 35,
      "outputs": [
        {
          "output_type": "stream",
          "name": "stdout",
          "text": [
            "Visualizing feature maps for the first 5 test images:\n"
          ]
        },
        {
          "output_type": "display_data",
          "data": {
            "text/plain": [
              "<Figure size 1200x1200 with 30 Axes>"
            ],
            "image/png": "[encoded data removed]"
          },
          "metadata": {}
        }
      ]
    }
  ]
}