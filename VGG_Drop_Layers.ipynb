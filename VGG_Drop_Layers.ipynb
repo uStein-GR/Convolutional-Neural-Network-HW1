{
 "cells": [
  {
   "cell_type": "code",
   "execution_count": 2,
   "metadata": {},
   "outputs": [],
   "source": [
    "import os\n",
    "import torch\n",
    "import torchvision\n",
    "import torch.nn as nn\n",
    "import torch.optim as optim\n",
    "import torch.nn.functional as f\n",
    "from torch.utils.data import DataLoader\n",
    "import torchvision.datasets as datasets\n",
    "import torchvision.transforms as transform\n",
    "from torchvision import transforms\n",
    "import matplotlib.pyplot as plt"
   ]
  },
  {
   "cell_type": "code",
   "execution_count": null,
   "metadata": {},
   "outputs": [],
   "source": [
    "device = torch.device('cuda' if torch.cuda.is_available() else 'cpu')\n",
    "print(device)"
   ]
  },
  {
   "cell_type": "code",
   "execution_count": 4,
   "metadata": {},
   "outputs": [],
   "source": [
    "train_dir = \"D:/KMUTT/Year 4th/ENE490 DL/Coding/Dataset/brain_tumor_dataset/Brain Tumor Classification/Training\"\n",
    "test_dir = \"D:/KMUTT/Year 4th/ENE490 DL/Coding/Dataset/brain_tumor_dataset/Brain Tumor Classification/Testing\""
   ]
  },
  {
   "cell_type": "code",
   "execution_count": 5,
   "metadata": {},
   "outputs": [],
   "source": [
    "train_transform = transforms.Compose([\n",
    "                                   transforms.Resize((300,300)),\n",
    "                                   transforms.ToTensor(),\n",
    "                                   transforms.Normalize(mean=[0.5,0.5,0.5],std=[0.5,0.5,0.5]) # [value-mean]/std\n",
    "                                   ])"
   ]
  },
  {
   "cell_type": "code",
   "execution_count": 6,
   "metadata": {},
   "outputs": [],
   "source": [
    "num_classes = 4\n",
    "learning_rate = 0.001\n",
    "batch_size = 32\n",
    "num_epoch = 3"
   ]
  },
  {
   "cell_type": "code",
   "execution_count": 7,
   "metadata": {},
   "outputs": [],
   "source": [
    "train_data = torchvision.datasets.ImageFolder(root=train_dir,transform = train_transform)\n",
    "train_data_loader = torch.utils.data.DataLoader(train_data, batch_size=batch_size)\n",
    "\n",
    "\n",
    "\n",
    "test_data = torchvision.datasets.ImageFolder(root=test_dir,transform = train_transform)\n",
    "test_data_loader = torch.utils.data.DataLoader(test_data, batch_size=batch_size)"
   ]
  },
  {
   "cell_type": "code",
   "execution_count": 8,
   "metadata": {},
   "outputs": [],
   "source": [
    "class VGG16C(nn.Module):\n",
    "    def __init__(self,in_channels=3,num_classes=4):\n",
    "       super(VGG16C,self).__init__()\n",
    "       self.conv64_1 = nn.Conv2d(in_channels=3, out_channels=64, kernel_size=3, stride=1, padding=1)\n",
    "    #    self.conv64_2 = nn.Conv2d(in_channels=64, out_channels=64, kernel_size=3, stride=1, padding=1)\n",
    "       self.conv128_1 = nn.Conv2d(in_channels=64, out_channels=128, kernel_size=3, stride=1, padding=1)\n",
    "    #    self.conv128_2 = nn.Conv2d(in_channels=128, out_channels=128, kernel_size=3, stride=1, padding=1)\n",
    "       self.conv256_1 = nn.Conv2d(in_channels=128, out_channels=256, kernel_size=3, stride=1, padding=1)\n",
    "    #    self.conv256_2 = nn.Conv2d(in_channels=256, out_channels=256, kernel_size=3, stride=1, padding=1)\n",
    "    #    self.conv256_3 = nn.Conv2d(in_channels=256, out_channels=256, kernel_size=3, stride=1, padding=1)\n",
    "       self.conv512_1 = nn.Conv2d(in_channels=256, out_channels=512, kernel_size=3, stride=1, padding=1)\n",
    "    #    self.conv512_2 = nn.Conv2d(in_channels=512, out_channels=512, kernel_size=3, stride=1, padding=1)\n",
    "    #    self.conv512_3 = nn.Conv2d(in_channels=512, out_channels=512, kernel_size=3, stride=1, padding=1)\n",
    "    #    self.conv512_4 = nn.Conv2d(in_channels=512, out_channels=512, kernel_size=3, stride=1, padding=1)\n",
    "    #    self.conv512_5 = nn.Conv2d(in_channels=512, out_channels=512, kernel_size=3, stride=1, padding=1)\n",
    "    #    self.conv512_6 = nn.Conv2d(in_channels=512, out_channels=512, kernel_size=3, stride=1, padding=1)\n",
    "\n",
    "       self.pool = nn.MaxPool2d(kernel_size=2, stride=2)\n",
    "       self.global_avg_pool = nn.AdaptiveAvgPool2d((1, 1))\n",
    "       self.fc1 = nn.Linear(512, 4096)\n",
    "       self.fc2 = nn.Linear(4096,1000)\n",
    "       self.fc3 = nn.Linear(1000, num_classes)\n",
    "\n",
    "    def forward(self,x):\n",
    "        x = f.relu(self.conv64_1(x))\n",
    "        x = self.pool(x)\n",
    "        x = f.relu(self.conv128_1(x))\n",
    "        x = self.pool(x)\n",
    "        x = f.relu(self.conv256_1(x))\n",
    "        x = self.pool(x)\n",
    "        x = f.relu(self.conv512_1(x))\n",
    "        x = self.pool(x)\n",
    "\n",
    "        x = self.global_avg_pool(x)\n",
    "        \n",
    "        x = x.view(x.size(0), -1)\n",
    "        x = f.relu(self.fc1(x))\n",
    "        x = f.relu(self.fc2(x))\n",
    "        x = f.softmax(self.fc3(x), dim=1)\n",
    "\n",
    "        return x"
   ]
  },
  {
   "cell_type": "code",
   "execution_count": 9,
   "metadata": {},
   "outputs": [],
   "source": [
    "#Initialize network\n",
    "model = VGG16C().to(device)\n",
    "#loss function network\n",
    "criterion = nn.CrossEntropyLoss()\n",
    "optimizer = optim.Adam(model.parameters(),lr=learning_rate)"
   ]
  },
  {
   "cell_type": "code",
   "execution_count": null,
   "metadata": {},
   "outputs": [],
   "source": [
    "# Train and Network\n",
    "losses = []\n",
    "for epoch in range(num_epoch):\n",
    "    for batch_idx,(data,targets) in enumerate(train_data_loader):\n",
    "        data = data.to(device=device)\n",
    "        targets = targets.to(device=device)\n",
    "\n",
    "        #forward\n",
    "        score = model(data)\n",
    "        loss = criterion(score,targets)\n",
    "\n",
    "        #backward\n",
    "        optimizer.zero_grad()\n",
    "        loss.backward()\n",
    "\n",
    "        #gradient descent or adam step\n",
    "        optimizer.step()\n",
    "\n",
    "    losses.append(loss.item())\n",
    "    #mean_loss = sum(losses) / len(losses)\n",
    "    #print(f'epoch: {epoch+1}/{num_epoch } loss =  {mean_loss:.5f}')\n",
    "    print('Epoch [{}/{}], loss:{:4f}'.format(epoch+1,num_epoch,loss.item()))\n",
    "\n",
    "plt.plot(losses,label=\"train\")\n",
    "plt.xlabel(\"iterations\")\n",
    "plt.ylabel(\"Loss\")\n",
    "plt.legend()\n",
    "plt.show()"
   ]
  },
  {
   "cell_type": "code",
   "execution_count": 10,
   "metadata": {},
   "outputs": [],
   "source": [
    "def check_accuracy(loader, model):\n",
    "\n",
    "  num_correct = 0\n",
    "  num_samples = 0\n",
    "  model.eval() # -> Evaluate for model\n",
    "\n",
    "\n",
    "  with torch.no_grad():\n",
    "    for x, y in loader:\n",
    "      #when train on GPU\n",
    "      x=x.type(torch.cuda.FloatTensor)\n",
    "      y=y.type(torch.cuda.FloatTensor)\n",
    "\n",
    "      #CPU\n",
    "      #x = x.to(device=device)\n",
    "      #y = y.to(device=device)\n",
    "\n",
    "\n",
    "      scores = model(x) # CNN\n",
    "      _, predictions = scores.max(1)\n",
    "      num_correct += (predictions==y).sum()\n",
    "      num_samples += predictions.size(0)\n",
    "\n",
    "  print(f'got {num_correct} / {num_samples}   Accuracy {(float(num_correct)/float(num_samples)*100)}')\n",
    "\n",
    "  model.train()"
   ]
  },
  {
   "cell_type": "code",
   "execution_count": null,
   "metadata": {},
   "outputs": [],
   "source": [
    "check_accuracy(train_data_loader, model)\n",
    "check_accuracy(test_data_loader, model)"
   ]
  },
  {
   "cell_type": "code",
   "execution_count": null,
   "metadata": {},
   "outputs": [],
   "source": [
    "from sklearn.metrics import confusion_matrix\n",
    "import seaborn as sn\n",
    "import pandas as pd\n",
    "import numpy as np\n",
    "\n",
    "\n",
    "y_pred = []\n",
    "y_true = []\n",
    "\n",
    "# iterate over test data\n",
    "for inputs, labels in train_data_loader:\n",
    "        #when train on GPU\n",
    "        inputs=inputs.type(torch.cuda.FloatTensor)\n",
    "        labels=labels.type(torch.cuda.FloatTensor)\n",
    "\n",
    "\n",
    "        output = model(inputs) # Feed Network\n",
    "        output = (torch.max(torch.exp(output), 1)[1]).data.cpu().numpy()\n",
    "        #output = output.reshape(output.shape[0], -1)\n",
    "        y_pred.extend(output) # Save Prediction\n",
    "\n",
    "        labels = labels.data.cpu().numpy()\n",
    "        y_true.extend(labels) # Save Truth\n",
    "\n",
    "# constant for classes\n",
    "classes = ('glioma_tumor', 'meningioma_tumor', 'no_tumor', 'pituitary_tumor')\n",
    "\n",
    "# Build confusion matrix\n",
    "cf_matrix = confusion_matrix(y_true, y_pred)\n",
    "df_cm = pd.DataFrame(cf_matrix/np.sum(cf_matrix) *10, index = [i for i in classes],\n",
    "                     columns = [i for i in classes])\n",
    "plt.figure(figsize = (12,7))\n",
    "sn.heatmap(df_cm, annot=True)\n",
    "plt.savefig('/ConfMatrix/confusion.png')"
   ]
  }
 ],
 "metadata": {
  "kernelspec": {
   "display_name": "Python 3",
   "language": "python",
   "name": "python3"
  },
  "language_info": {
   "codemirror_mode": {
    "name": "ipython",
    "version": 3
   },
   "file_extension": ".py",
   "mimetype": "text/x-python",
   "name": "python",
   "nbconvert_exporter": "python",
   "pygments_lexer": "ipython3",
   "version": "3.12.7"
  }
 },
 "nbformat": 4,
 "nbformat_minor": 2
}
